{
 "cells": [
  {
   "cell_type": "markdown",
   "metadata": {},
   "source": [
    "3. Численно найти хотя бы один действительный корень системы нелинейных уравнений:"
   ]
  },
  {
   "cell_type": "code",
   "execution_count": 1,
   "metadata": {},
   "outputs": [
    {
     "name": "stdout",
     "output_type": "stream",
     "text": [
      "{(1.27330206, 1.66203912)}\n"
     ]
    }
   ],
   "source": [
    "\n",
    "\n",
    "from scipy.optimize import fsolve\n",
    "import math\n",
    "import numpy as np\n",
    "\n",
    "def equations(p):\n",
    "    x,y = p\n",
    "    return (x**2 - y**2 +3*x*y**3- 2*x**2*y**2+2*x - 3*y - 5, 3*y**3 - 2*x**2 +2*x**3*y - 5*x**2*y**2+5)\n",
    "\n",
    "solve = set()\n",
    "(x, y), info, ier, mesg =  fsolve(equations, (10, 10), full_output=True)\n",
    "if ier == 1:\n",
    "    solve.add((int(x*10**8)/10**8,int(y*10**8)/10**8))\n",
    "\n",
    "print (solve)\n",
    "\n"
   ]
  },
  {
   "cell_type": "markdown",
   "metadata": {},
   "source": [
    "4*. Численно найти все 5 действительных корней.\n"
   ]
  },
  {
   "cell_type": "code",
   "execution_count": 3,
   "metadata": {},
   "outputs": [
    {
     "name": "stdout",
     "output_type": "stream",
     "text": [
      "{(-3.65307996, -0.27476341), (2.21775363, 0.61019397), (2.49435653, 0.70831752), (1.37568714, -0.17475798), (1.27330206, 1.66203912)}\n"
     ]
    }
   ],
   "source": [
    "def equations(p):\n",
    "    x,y = p\n",
    "    return (x**2 - y**2 +3*x*y**3- 2*x**2*y**2+2*x - 3*y - 5, 3*y**3 - 2*x**2 +2*x**3*y - 5*x**2*y**2+5)\n",
    "\n",
    "solve = set()\n",
    "for x in np.arange (-10, 10, 1):\n",
    "    for y in np.arange (-10, 10, 1):\n",
    "        (x, y), info, ier, mesg =  fsolve(equations, (x, y), full_output=True)\n",
    "        if (ier == 1): solve.add((int(x*10**8)/10**8,int(y*10**8)/10**8))\n",
    "print (solve)"
   ]
  },
  {
   "cell_type": "code",
   "execution_count": null,
   "metadata": {},
   "outputs": [],
   "source": []
  }
 ],
 "metadata": {
  "kernelspec": {
   "display_name": "Python 3",
   "language": "python",
   "name": "python3"
  },
  "language_info": {
   "codemirror_mode": {
    "name": "ipython",
    "version": 3
   },
   "file_extension": ".py",
   "mimetype": "text/x-python",
   "name": "python",
   "nbconvert_exporter": "python",
   "pygments_lexer": "ipython3",
   "version": "3.7.4"
  }
 },
 "nbformat": 4,
 "nbformat_minor": 2
}
