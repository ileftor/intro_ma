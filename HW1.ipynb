{
 "cells": [
  {
   "cell_type": "markdown",
   "metadata": {},
   "source": [
    "# Практическое задание"
   ]
  },
  {
   "cell_type": "markdown",
   "metadata": {},
   "source": [
    "__1.__ Представьте в виде __несократимой__ рациональной дроби:"
   ]
  },
  {
   "cell_type": "markdown",
   "metadata": {},
   "source": [
    "а)0.(216);"
   ]
  },
  {
   "cell_type": "markdown",
   "metadata": {},
   "source": [
    "\n",
    "$$a=0.(216)$$\n",
    "\n",
    "$$1000a=216.(216)$$\n",
    "\n",
    "$$1000a=216+0.(216)$$\n",
    "\n",
    "$$1000a=216+a$$\n",
    "\n",
    "$$999a=216$$\n",
    "\n",
    "$$a=\\frac{216}{999}=\\frac{8}{37}$$\n",
    "\n",
    "$$0.(216)=\\frac{8}{37}$$"
   ]
  },
  {
   "cell_type": "markdown",
   "metadata": {},
   "source": [
    "b)1.0(01)."
   ]
  },
  {
   "cell_type": "markdown",
   "metadata": {},
   "source": [
    "\n",
    "$$a=1.0(01)$$\n",
    "\n",
    "$$1000a=1001.(01)$$\n",
    "\n",
    "$$1000a=1001+0.(01)$$\n",
    "\n",
    "$$1000a=1001+a$$\n",
    "\n",
    "$$999a=1001$$\n",
    "\n",
    "$$a=\\frac{1001}{999}$$\n",
    "\n",
    "$$1.0(01)=\\frac{1001}{999}$$"
   ]
  },
  {
   "cell_type": "markdown",
   "metadata": {},
   "source": [
    "__3.__ Проверьте любым способ, является ли данные логические формулы тавтологией:"
   ]
  },
  {
   "cell_type": "markdown",
   "metadata": {},
   "source": [
    "$$a)\\,\\,\\, (A \\vee B) \\rightarrow (B \\vee\\overline A)$$\n"
   ]
  },
  {
   "cell_type": "markdown",
   "metadata": {},
   "source": [
    " Решим с помощью таблицы истинности:\n",
    " \n",
    " <table>\n",
    "<thead>\n",
    "<tr><th>$A$</th><th>$B$</th><th>$A\\vee B$</th><th>$\\overline A$</th><th>$B\\vee \\overline A$</th><th>$(A \\vee B) \\rightarrow (B \\vee\\overline A)$</th></tr>\n",
    "</thead>\n",
    "<tbody>\n",
    "    <tr><td>$0$</td><td>$0$</td><td>$0$</td><td>$1$</td><td>$1$</td><td>$1$</td></tr>\n",
    "    <tr><td>$0$</td><td>$1$</td><td>$1$</td><td>$1$</td><td>$1$</td><td>$1$</td></tr>\n",
    "    <tr><td>$1$</td><td>$0$</td><td>$1$</td><td>$0$</td><td>$0$</td><td>$0$</td></tr>\n",
    "    <tr><td>$1$</td><td>$1$</td><td>$1$</td><td>$0$</td><td>$1$</td><td>$1$</td></tr>\n",
    "</tbody>\n",
    "</table>\n",
    "\n",
    "При любых $A$ и $B$ мы не получаем истинное значение. Следовательно, выражение не является тавтологией."
   ]
  },
  {
   "cell_type": "markdown",
   "metadata": {},
   "source": [
    "$$б)\\,\\,\\, A \\rightarrow (A \\vee (\\overline B \\wedge A))$$"
   ]
  },
  {
   "cell_type": "markdown",
   "metadata": {},
   "source": [
    " Решим с помощью таблицы истинности:\n",
    " \n",
    " <table>\n",
    "<thead>\n",
    "<tr><th>$A$</th><th>$B$</th><th>$\\overline B$</th><th>$\\overline B$ $\\wedge A$</th><th>$A \\vee (\\overline B$ $\\wedge A$)</th><th>$A \\rightarrow A \\vee (\\overline B$ $\\wedge A$)</th></tr>\n",
    "</thead>\n",
    "<tbody>\n",
    "    <tr><td>$0$</td><td>$0$</td><td>$1$</td><td>$0$</td><td>$0$</td><td>$1$</td></tr>\n",
    "    <tr><td>$0$</td><td>$1$</td><td>$0$</td><td>$0$</td><td>$0$</td><td>$1$</td></tr>\n",
    "    <tr><td>$1$</td><td>$0$</td><td>$1$</td><td>$1$</td><td>$1$</td><td>$1$</td></tr>\n",
    "    <tr><td>$1$</td><td>$1$</td><td>$0$</td><td>$0$</td><td>$1$</td><td>$1$</td></tr>\n",
    "</tbody>\n",
    "</table>\n",
    "\n",
    "При любых $A$ и $B$ мы получаем истинное значение. Следовательно, выражение является тавтологией."
   ]
  },
  {
   "cell_type": "markdown",
   "metadata": {},
   "source": [
    "\n",
    "\n",
    "__4.__ Сформулируйте словесно высказывания:"
   ]
  },
  {
   "cell_type": "markdown",
   "metadata": {},
   "source": [
    "\n",
    "- A: сегодня светит солнце; \n",
    "- B: сегодня сыро; \n",
    "- C: я поеду на дачу. "
   ]
  },
  {
   "cell_type": "markdown",
   "metadata": {},
   "source": [
    "$$a)\\,\\,\\, (\\overline A \\vee B) \\rightarrow \\overline C$$"
   ]
  },
  {
   "cell_type": "markdown",
   "metadata": {},
   "source": [
    "Ответ: **Если сегодня не светит солнце или сегодня сыро, то я не поеду на дачу.**"
   ]
  },
  {
   "cell_type": "markdown",
   "metadata": {},
   "source": [
    "$$б)\\,\\,\\, C \\rightarrow (A \\vee \\overline B)$$"
   ]
  },
  {
   "cell_type": "markdown",
   "metadata": {},
   "source": [
    "Ответ: **Если я поеду на дачу, то сегодня светит солнце или сегодня не сыро.**"
   ]
  },
  {
   "cell_type": "markdown",
   "metadata": {},
   "source": [
    "__5.__  Пользуясь правилом построения противоположного высказывания, запишите утверждения, противоположные следующим:\n",
    "\n"
   ]
  },
  {
   "cell_type": "markdown",
   "metadata": {},
   "source": [
    "a) На любом курсе каждого факультета есть студенты, сдающие все экзамены на «отлично»."
   ]
  },
  {
   "cell_type": "markdown",
   "metadata": {},
   "source": [
    "Ответ: **На некоторых курсах, некоторых факультетов все студенты сдают экзамены не на \"Отлично\"**"
   ]
  },
  {
   "cell_type": "markdown",
   "metadata": {},
   "source": [
    "\n",
    "\n",
    "б) В любом самолете на рейсе Вашингтон-Москва присутствует хотя бы один сотрудник силовых органов, в каждой пуговице одежды которого вмонтирован микрофон."
   ]
  },
  {
   "cell_type": "markdown",
   "metadata": {},
   "source": [
    "Ответ: **Есть самолеты на рейсе Вашингтон-Москва на которых присутствуют только сотрудники силовых органов, в некоторых пуговицах одежды которых не вмонтирован микрофон.**"
   ]
  },
  {
   "cell_type": "code",
   "execution_count": null,
   "metadata": {},
   "outputs": [],
   "source": []
  }
 ],
 "metadata": {
  "kernelspec": {
   "display_name": "Python 3",
   "language": "python",
   "name": "python3"
  },
  "language_info": {
   "codemirror_mode": {
    "name": "ipython",
    "version": 3
   },
   "file_extension": ".py",
   "mimetype": "text/x-python",
   "name": "python",
   "nbconvert_exporter": "python",
   "pygments_lexer": "ipython3",
   "version": "3.7.4"
  }
 },
 "nbformat": 4,
 "nbformat_minor": 2
}
